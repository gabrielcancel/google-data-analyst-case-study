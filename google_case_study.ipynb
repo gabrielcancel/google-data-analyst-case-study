{
 "cells": [
  {
   "cell_type": "markdown",
   "id": "5ca2796d",
   "metadata": {},
   "source": [
    "# <span style='color:black'>Case Study: How Does a Bike-Share Navigate Speedy Success?</span>"
   ]
  },
  {
   "cell_type": "markdown",
   "id": "8dba524d",
   "metadata": {},
   "source": [
    "## <span style='color:black'>We need to import pandas to import all csv file</span>"
   ]
  },
  {
   "cell_type": "code",
   "execution_count": 34,
   "id": "f1bfc1fa",
   "metadata": {},
   "outputs": [],
   "source": [
    "import pandas as pd\n",
    "import numpy as np\n",
    "import datetime"
   ]
  },
  {
   "cell_type": "markdown",
   "id": "b15cd8b4",
   "metadata": {},
   "source": [
    "### <span style='color:black'>Read all csv file</span>"
   ]
  },
  {
   "cell_type": "code",
   "execution_count": 35,
   "id": "446ed8a2",
   "metadata": {},
   "outputs": [],
   "source": [
    "df1 = pd.read_csv('202111-divvy-tripdata.csv')\n",
    "df2 = pd.read_csv('202110-divvy-tripdata.csv')\n",
    "df3 = pd.read_csv('202109-divvy-tripdata.csv')\n",
    "df4 = pd.read_csv('202108-divvy-tripdata.csv')\n",
    "df5 = pd.read_csv('202107-divvy-tripdata.csv')\n",
    "df6 = pd.read_csv('202106-divvy-tripdata.csv')\n",
    "df7 = pd.read_csv('202105-divvy-tripdata.csv')\n",
    "df8 = pd.read_csv('202104-divvy-tripdata.csv')\n",
    "df9 = pd.read_csv('202103-divvy-tripdata.csv')\n",
    "df10 = pd.read_csv('202102-divvy-tripdata.csv')\n",
    "df11 = pd.read_csv('202101-divvy-tripdata.csv')\n",
    "df12 = pd.read_csv('202012-divvy-tripdata.csv')"
   ]
  },
  {
   "cell_type": "code",
   "execution_count": 36,
   "id": "ad572ff7",
   "metadata": {},
   "outputs": [],
   "source": [
    "df = pd.concat([df1,df2,df3,df4,df5,df6,df7,df8,df9,df10,df11,df12])"
   ]
  },
  {
   "cell_type": "markdown",
   "id": "d33d1d54",
   "metadata": {},
   "source": [
    "### Display Info"
   ]
  },
  {
   "cell_type": "code",
   "execution_count": 37,
   "id": "ac43e2bb",
   "metadata": {},
   "outputs": [
    {
     "name": "stdout",
     "output_type": "stream",
     "text": [
      "(5479096, 13)\n"
     ]
    }
   ],
   "source": [
    "print((len(df.index),len(df.columns)))"
   ]
  },
  {
   "cell_type": "markdown",
   "id": "e3a56f65",
   "metadata": {},
   "source": [
    "## <span style='color:black'>Now we want to watch the column name</span>"
   ]
  },
  {
   "cell_type": "code",
   "execution_count": 38,
   "id": "6f9538ec",
   "metadata": {
    "scrolled": true
   },
   "outputs": [
    {
     "data": {
      "text/plain": [
       "Index(['ride_id', 'rideable_type', 'started_at', 'ended_at',\n",
       "       'start_station_name', 'start_station_id', 'end_station_name',\n",
       "       'end_station_id', 'start_lat', 'start_lng', 'end_lat', 'end_lng',\n",
       "       'member_casual'],\n",
       "      dtype='object')"
      ]
     },
     "execution_count": 38,
     "metadata": {},
     "output_type": "execute_result"
    }
   ],
   "source": [
    "df.columns"
   ]
  },
  {
   "cell_type": "markdown",
   "id": "86c8819d",
   "metadata": {},
   "source": [
    "## <span style='color:black'>Display some data in the data frame</span>"
   ]
  },
  {
   "cell_type": "code",
   "execution_count": 39,
   "id": "e10b9eae",
   "metadata": {
    "scrolled": true
   },
   "outputs": [
    {
     "data": {
      "text/html": [
       "<div><div id=9a6c302b-29c7-4507-a072-a50a5cbab5f8 style=\"display:none; background-color:#9D6CFF; color:white; width:200px; height:30px; padding-left:5px; border-radius:4px; flex-direction:row; justify-content:space-around; align-items:center;\" onmouseover=\"this.style.backgroundColor='#BA9BF8'\" onmouseout=\"this.style.backgroundColor='#9D6CFF'\" onclick=\"window.commands?.execute('create-mitosheet-from-dataframe-output');\">See Full Dataframe in Mito</div> <script> if (window.commands.hasCommand('create-mitosheet-from-dataframe-output')) document.getElementById('9a6c302b-29c7-4507-a072-a50a5cbab5f8').style.display = 'flex' </script> <table border=\"1\" class=\"dataframe\">\n",
       "  <thead>\n",
       "    <tr style=\"text-align: right;\">\n",
       "      <th></th>\n",
       "      <th>ride_id</th>\n",
       "      <th>rideable_type</th>\n",
       "      <th>started_at</th>\n",
       "      <th>ended_at</th>\n",
       "      <th>start_station_name</th>\n",
       "      <th>start_station_id</th>\n",
       "      <th>end_station_name</th>\n",
       "      <th>end_station_id</th>\n",
       "      <th>start_lat</th>\n",
       "      <th>start_lng</th>\n",
       "      <th>end_lat</th>\n",
       "      <th>end_lng</th>\n",
       "      <th>member_casual</th>\n",
       "    </tr>\n",
       "  </thead>\n",
       "  <tbody>\n",
       "    <tr>\n",
       "      <th>0</th>\n",
       "      <td>7C00A93E10556E47</td>\n",
       "      <td>electric_bike</td>\n",
       "      <td>2021-11-27 13:27:38</td>\n",
       "      <td>2021-11-27 13:46:38</td>\n",
       "      <td>NaN</td>\n",
       "      <td>NaN</td>\n",
       "      <td>NaN</td>\n",
       "      <td>NaN</td>\n",
       "      <td>41.93</td>\n",
       "      <td>-87.72</td>\n",
       "      <td>41.96</td>\n",
       "      <td>-87.73</td>\n",
       "      <td>casual</td>\n",
       "    </tr>\n",
       "    <tr>\n",
       "      <th>1</th>\n",
       "      <td>90854840DFD508BA</td>\n",
       "      <td>electric_bike</td>\n",
       "      <td>2021-11-27 13:38:25</td>\n",
       "      <td>2021-11-27 13:56:10</td>\n",
       "      <td>NaN</td>\n",
       "      <td>NaN</td>\n",
       "      <td>NaN</td>\n",
       "      <td>NaN</td>\n",
       "      <td>41.96</td>\n",
       "      <td>-87.70</td>\n",
       "      <td>41.92</td>\n",
       "      <td>-87.70</td>\n",
       "      <td>casual</td>\n",
       "    </tr>\n",
       "    <tr>\n",
       "      <th>2</th>\n",
       "      <td>0A7D10CDD144061C</td>\n",
       "      <td>electric_bike</td>\n",
       "      <td>2021-11-26 22:03:34</td>\n",
       "      <td>2021-11-26 22:05:56</td>\n",
       "      <td>NaN</td>\n",
       "      <td>NaN</td>\n",
       "      <td>NaN</td>\n",
       "      <td>NaN</td>\n",
       "      <td>41.96</td>\n",
       "      <td>-87.70</td>\n",
       "      <td>41.96</td>\n",
       "      <td>-87.70</td>\n",
       "      <td>casual</td>\n",
       "    </tr>\n",
       "    <tr>\n",
       "      <th>3</th>\n",
       "      <td>2F3BE33085BCFF02</td>\n",
       "      <td>electric_bike</td>\n",
       "      <td>2021-11-27 09:56:49</td>\n",
       "      <td>2021-11-27 10:01:50</td>\n",
       "      <td>NaN</td>\n",
       "      <td>NaN</td>\n",
       "      <td>NaN</td>\n",
       "      <td>NaN</td>\n",
       "      <td>41.94</td>\n",
       "      <td>-87.79</td>\n",
       "      <td>41.93</td>\n",
       "      <td>-87.79</td>\n",
       "      <td>casual</td>\n",
       "    </tr>\n",
       "    <tr>\n",
       "      <th>4</th>\n",
       "      <td>D67B4781A19928D4</td>\n",
       "      <td>electric_bike</td>\n",
       "      <td>2021-11-26 19:09:28</td>\n",
       "      <td>2021-11-26 19:30:41</td>\n",
       "      <td>NaN</td>\n",
       "      <td>NaN</td>\n",
       "      <td>NaN</td>\n",
       "      <td>NaN</td>\n",
       "      <td>41.90</td>\n",
       "      <td>-87.63</td>\n",
       "      <td>41.88</td>\n",
       "      <td>-87.62</td>\n",
       "      <td>casual</td>\n",
       "    </tr>\n",
       "  </tbody>\n",
       "</table></div>"
      ],
      "text/plain": [
       "            ride_id  rideable_type           started_at             ended_at  \\\n",
       "0  7C00A93E10556E47  electric_bike  2021-11-27 13:27:38  2021-11-27 13:46:38   \n",
       "1  90854840DFD508BA  electric_bike  2021-11-27 13:38:25  2021-11-27 13:56:10   \n",
       "2  0A7D10CDD144061C  electric_bike  2021-11-26 22:03:34  2021-11-26 22:05:56   \n",
       "3  2F3BE33085BCFF02  electric_bike  2021-11-27 09:56:49  2021-11-27 10:01:50   \n",
       "4  D67B4781A19928D4  electric_bike  2021-11-26 19:09:28  2021-11-26 19:30:41   \n",
       "\n",
       "  start_station_name start_station_id end_station_name end_station_id  \\\n",
       "0                NaN              NaN              NaN            NaN   \n",
       "1                NaN              NaN              NaN            NaN   \n",
       "2                NaN              NaN              NaN            NaN   \n",
       "3                NaN              NaN              NaN            NaN   \n",
       "4                NaN              NaN              NaN            NaN   \n",
       "\n",
       "   start_lat  start_lng  end_lat  end_lng member_casual  \n",
       "0      41.93     -87.72    41.96   -87.73        casual  \n",
       "1      41.96     -87.70    41.92   -87.70        casual  \n",
       "2      41.96     -87.70    41.96   -87.70        casual  \n",
       "3      41.94     -87.79    41.93   -87.79        casual  \n",
       "4      41.90     -87.63    41.88   -87.62        casual  "
      ]
     },
     "execution_count": 39,
     "metadata": {},
     "output_type": "execute_result"
    }
   ],
   "source": [
    "df.head()"
   ]
  },
  {
   "cell_type": "code",
   "execution_count": 40,
   "id": "980f841f",
   "metadata": {},
   "outputs": [
    {
     "data": {
      "text/plain": [
       "ride_id               5479096\n",
       "rideable_type         5479096\n",
       "started_at            5479096\n",
       "ended_at              5479096\n",
       "start_station_name    4827651\n",
       "start_station_id      4827654\n",
       "end_station_name      4780187\n",
       "end_station_id        4780187\n",
       "start_lat             5479096\n",
       "start_lng             5479096\n",
       "end_lat               5474358\n",
       "end_lng               5474358\n",
       "member_casual         5479096\n",
       "dtype: int64"
      ]
     },
     "execution_count": 40,
     "metadata": {},
     "output_type": "execute_result"
    }
   ],
   "source": [
    "df.drop_duplicates().count()"
   ]
  },
  {
   "cell_type": "markdown",
   "id": "5f758349",
   "metadata": {},
   "source": [
    "<span style='color:black'>We notice that we have no change in the number of lines, so we have no duplicate data.</span>"
   ]
  },
  {
   "cell_type": "markdown",
   "id": "3a765ae5",
   "metadata": {},
   "source": [
    "## <span style='color:black'>Let's to calule the distance traveled in kilometers</span>"
   ]
  },
  {
   "cell_type": "code",
   "execution_count": 41,
   "id": "37dda18a",
   "metadata": {},
   "outputs": [],
   "source": [
    "def distance(lat1, lon1, lat2, lon2, R=6371):\n",
    "    lat1, lon1, lat2, lon2 = np.radians([lat1, lon1, lat2, lon2])\n",
    "        \n",
    "    dlon = lon2 - lon1\n",
    "    dlat = lat2 - lat1\n",
    "    a = np.sin(dlat/2.0)**2 + np.cos(lat1) * np.cos(lat2) * np.sin(dlon/2.0)**2\n",
    "    c = 2 * np.arctan2(np.sqrt(a), np.sqrt(1-a))\n",
    "    \n",
    "    return R * c * 1000"
   ]
  },
  {
   "cell_type": "code",
   "execution_count": 42,
   "id": "1152ad83",
   "metadata": {},
   "outputs": [],
   "source": [
    "df['ride_length'] = distance(df['start_lat'],df['start_lng'],df['end_lat'],df['end_lng'])"
   ]
  },
  {
   "cell_type": "code",
   "execution_count": 43,
   "id": "125526b1",
   "metadata": {},
   "outputs": [
    {
     "data": {
      "text/html": [
       "<div><div id=c9ff5548-3e6e-48bc-baea-22c52c342869 style=\"display:none; background-color:#9D6CFF; color:white; width:200px; height:30px; padding-left:5px; border-radius:4px; flex-direction:row; justify-content:space-around; align-items:center;\" onmouseover=\"this.style.backgroundColor='#BA9BF8'\" onmouseout=\"this.style.backgroundColor='#9D6CFF'\" onclick=\"window.commands?.execute('create-mitosheet-from-dataframe-output');\">See Full Dataframe in Mito</div> <script> if (window.commands.hasCommand('create-mitosheet-from-dataframe-output')) document.getElementById('c9ff5548-3e6e-48bc-baea-22c52c342869').style.display = 'flex' </script> <table border=\"1\" class=\"dataframe\">\n",
       "  <thead>\n",
       "    <tr style=\"text-align: right;\">\n",
       "      <th></th>\n",
       "      <th>ride_id</th>\n",
       "      <th>rideable_type</th>\n",
       "      <th>started_at</th>\n",
       "      <th>ended_at</th>\n",
       "      <th>start_station_name</th>\n",
       "      <th>start_station_id</th>\n",
       "      <th>end_station_name</th>\n",
       "      <th>end_station_id</th>\n",
       "      <th>start_lat</th>\n",
       "      <th>start_lng</th>\n",
       "      <th>end_lat</th>\n",
       "      <th>end_lng</th>\n",
       "      <th>member_casual</th>\n",
       "      <th>ride_length</th>\n",
       "    </tr>\n",
       "  </thead>\n",
       "  <tbody>\n",
       "    <tr>\n",
       "      <th>0</th>\n",
       "      <td>7C00A93E10556E47</td>\n",
       "      <td>electric_bike</td>\n",
       "      <td>2021-11-27 13:27:38</td>\n",
       "      <td>2021-11-27 13:46:38</td>\n",
       "      <td>NaN</td>\n",
       "      <td>NaN</td>\n",
       "      <td>NaN</td>\n",
       "      <td>NaN</td>\n",
       "      <td>41.93</td>\n",
       "      <td>-87.72</td>\n",
       "      <td>41.96</td>\n",
       "      <td>-87.73</td>\n",
       "      <td>casual</td>\n",
       "      <td>3436.844114</td>\n",
       "    </tr>\n",
       "    <tr>\n",
       "      <th>1</th>\n",
       "      <td>90854840DFD508BA</td>\n",
       "      <td>electric_bike</td>\n",
       "      <td>2021-11-27 13:38:25</td>\n",
       "      <td>2021-11-27 13:56:10</td>\n",
       "      <td>NaN</td>\n",
       "      <td>NaN</td>\n",
       "      <td>NaN</td>\n",
       "      <td>NaN</td>\n",
       "      <td>41.96</td>\n",
       "      <td>-87.70</td>\n",
       "      <td>41.92</td>\n",
       "      <td>-87.70</td>\n",
       "      <td>casual</td>\n",
       "      <td>4447.797066</td>\n",
       "    </tr>\n",
       "    <tr>\n",
       "      <th>2</th>\n",
       "      <td>0A7D10CDD144061C</td>\n",
       "      <td>electric_bike</td>\n",
       "      <td>2021-11-26 22:03:34</td>\n",
       "      <td>2021-11-26 22:05:56</td>\n",
       "      <td>NaN</td>\n",
       "      <td>NaN</td>\n",
       "      <td>NaN</td>\n",
       "      <td>NaN</td>\n",
       "      <td>41.96</td>\n",
       "      <td>-87.70</td>\n",
       "      <td>41.96</td>\n",
       "      <td>-87.70</td>\n",
       "      <td>casual</td>\n",
       "      <td>0.000000</td>\n",
       "    </tr>\n",
       "    <tr>\n",
       "      <th>3</th>\n",
       "      <td>2F3BE33085BCFF02</td>\n",
       "      <td>electric_bike</td>\n",
       "      <td>2021-11-27 09:56:49</td>\n",
       "      <td>2021-11-27 10:01:50</td>\n",
       "      <td>NaN</td>\n",
       "      <td>NaN</td>\n",
       "      <td>NaN</td>\n",
       "      <td>NaN</td>\n",
       "      <td>41.94</td>\n",
       "      <td>-87.79</td>\n",
       "      <td>41.93</td>\n",
       "      <td>-87.79</td>\n",
       "      <td>casual</td>\n",
       "      <td>1111.949266</td>\n",
       "    </tr>\n",
       "    <tr>\n",
       "      <th>4</th>\n",
       "      <td>D67B4781A19928D4</td>\n",
       "      <td>electric_bike</td>\n",
       "      <td>2021-11-26 19:09:28</td>\n",
       "      <td>2021-11-26 19:30:41</td>\n",
       "      <td>NaN</td>\n",
       "      <td>NaN</td>\n",
       "      <td>NaN</td>\n",
       "      <td>NaN</td>\n",
       "      <td>41.90</td>\n",
       "      <td>-87.63</td>\n",
       "      <td>41.88</td>\n",
       "      <td>-87.62</td>\n",
       "      <td>casual</td>\n",
       "      <td>2372.956313</td>\n",
       "    </tr>\n",
       "  </tbody>\n",
       "</table></div>"
      ],
      "text/plain": [
       "            ride_id  rideable_type           started_at             ended_at  \\\n",
       "0  7C00A93E10556E47  electric_bike  2021-11-27 13:27:38  2021-11-27 13:46:38   \n",
       "1  90854840DFD508BA  electric_bike  2021-11-27 13:38:25  2021-11-27 13:56:10   \n",
       "2  0A7D10CDD144061C  electric_bike  2021-11-26 22:03:34  2021-11-26 22:05:56   \n",
       "3  2F3BE33085BCFF02  electric_bike  2021-11-27 09:56:49  2021-11-27 10:01:50   \n",
       "4  D67B4781A19928D4  electric_bike  2021-11-26 19:09:28  2021-11-26 19:30:41   \n",
       "\n",
       "  start_station_name start_station_id end_station_name end_station_id  \\\n",
       "0                NaN              NaN              NaN            NaN   \n",
       "1                NaN              NaN              NaN            NaN   \n",
       "2                NaN              NaN              NaN            NaN   \n",
       "3                NaN              NaN              NaN            NaN   \n",
       "4                NaN              NaN              NaN            NaN   \n",
       "\n",
       "   start_lat  start_lng  end_lat  end_lng member_casual  ride_length  \n",
       "0      41.93     -87.72    41.96   -87.73        casual  3436.844114  \n",
       "1      41.96     -87.70    41.92   -87.70        casual  4447.797066  \n",
       "2      41.96     -87.70    41.96   -87.70        casual     0.000000  \n",
       "3      41.94     -87.79    41.93   -87.79        casual  1111.949266  \n",
       "4      41.90     -87.63    41.88   -87.62        casual  2372.956313  "
      ]
     },
     "execution_count": 43,
     "metadata": {},
     "output_type": "execute_result"
    }
   ],
   "source": [
    "df.head()\n",
    "# ride length is in meter"
   ]
  },
  {
   "cell_type": "markdown",
   "id": "1ec9b845",
   "metadata": {},
   "source": [
    "### Date conversion"
   ]
  },
  {
   "cell_type": "code",
   "execution_count": 44,
   "id": "a710b88c",
   "metadata": {},
   "outputs": [],
   "source": [
    "df['started_at'] = pd.to_datetime(df['started_at'])\n",
    "df['ended_at'] = pd.to_datetime(df['ended_at'])"
   ]
  },
  {
   "cell_type": "markdown",
   "id": "460c5fa4",
   "metadata": {},
   "source": [
    "###  Ride duration in seconds"
   ]
  },
  {
   "cell_type": "code",
   "execution_count": 45,
   "id": "61e7ca8f",
   "metadata": {},
   "outputs": [
    {
     "name": "stderr",
     "output_type": "stream",
     "text": [
      "/var/folders/39/3xj1c_ls393btby39t3w7w300000gn/T/ipykernel_4883/3373606377.py:1: FutureWarning: casting datetime64[ns] values to int64 with .astype(...) is deprecated and will raise in a future version. Use .view(...) instead.\n",
      "  df['ride_duration'] = df['ended_at'].astype(int)/ 10**9 - df['started_at'].astype(int)/ 10**9\n"
     ]
    }
   ],
   "source": [
    "df['ride_duration'] = df['ended_at'].astype(int)/ 10**9 - df['started_at'].astype(int)/ 10**9"
   ]
  },
  {
   "cell_type": "markdown",
   "id": "1dcfccba",
   "metadata": {},
   "source": [
    "### Convert ride_duration to minutes"
   ]
  },
  {
   "cell_type": "code",
   "execution_count": 46,
   "id": "72befc2f",
   "metadata": {},
   "outputs": [],
   "source": [
    "df['ride_duration'] = df['ride_duration']/60"
   ]
  },
  {
   "cell_type": "code",
   "execution_count": 47,
   "id": "f2c842d2",
   "metadata": {},
   "outputs": [
    {
     "data": {
      "text/html": [
       "<div><div id=d41e4eaf-822e-4c68-be0d-67e08fb17f93 style=\"display:none; background-color:#9D6CFF; color:white; width:200px; height:30px; padding-left:5px; border-radius:4px; flex-direction:row; justify-content:space-around; align-items:center;\" onmouseover=\"this.style.backgroundColor='#BA9BF8'\" onmouseout=\"this.style.backgroundColor='#9D6CFF'\" onclick=\"window.commands?.execute('create-mitosheet-from-dataframe-output');\">See Full Dataframe in Mito</div> <script> if (window.commands.hasCommand('create-mitosheet-from-dataframe-output')) document.getElementById('d41e4eaf-822e-4c68-be0d-67e08fb17f93').style.display = 'flex' </script> <table border=\"1\" class=\"dataframe\">\n",
       "  <thead>\n",
       "    <tr style=\"text-align: right;\">\n",
       "      <th></th>\n",
       "      <th>started_at</th>\n",
       "      <th>ended_at</th>\n",
       "      <th>ride_duration</th>\n",
       "    </tr>\n",
       "  </thead>\n",
       "  <tbody>\n",
       "    <tr>\n",
       "      <th>0</th>\n",
       "      <td>2021-11-27 13:27:38</td>\n",
       "      <td>2021-11-27 13:46:38</td>\n",
       "      <td>19.000000</td>\n",
       "    </tr>\n",
       "    <tr>\n",
       "      <th>1</th>\n",
       "      <td>2021-11-27 13:38:25</td>\n",
       "      <td>2021-11-27 13:56:10</td>\n",
       "      <td>17.750000</td>\n",
       "    </tr>\n",
       "    <tr>\n",
       "      <th>2</th>\n",
       "      <td>2021-11-26 22:03:34</td>\n",
       "      <td>2021-11-26 22:05:56</td>\n",
       "      <td>2.366667</td>\n",
       "    </tr>\n",
       "    <tr>\n",
       "      <th>3</th>\n",
       "      <td>2021-11-27 09:56:49</td>\n",
       "      <td>2021-11-27 10:01:50</td>\n",
       "      <td>5.016667</td>\n",
       "    </tr>\n",
       "    <tr>\n",
       "      <th>4</th>\n",
       "      <td>2021-11-26 19:09:28</td>\n",
       "      <td>2021-11-26 19:30:41</td>\n",
       "      <td>21.216667</td>\n",
       "    </tr>\n",
       "  </tbody>\n",
       "</table></div>"
      ],
      "text/plain": [
       "           started_at            ended_at  ride_duration\n",
       "0 2021-11-27 13:27:38 2021-11-27 13:46:38      19.000000\n",
       "1 2021-11-27 13:38:25 2021-11-27 13:56:10      17.750000\n",
       "2 2021-11-26 22:03:34 2021-11-26 22:05:56       2.366667\n",
       "3 2021-11-27 09:56:49 2021-11-27 10:01:50       5.016667\n",
       "4 2021-11-26 19:09:28 2021-11-26 19:30:41      21.216667"
      ]
     },
     "execution_count": 47,
     "metadata": {},
     "output_type": "execute_result"
    }
   ],
   "source": [
    "df[['started_at','ended_at','ride_duration']].head(5)"
   ]
  },
  {
   "cell_type": "code",
   "execution_count": 48,
   "id": "42133b04",
   "metadata": {},
   "outputs": [
    {
     "data": {
      "text/html": [
       "<div><div id=7c858734-4119-46b4-877f-be93e96c1e9b style=\"display:none; background-color:#9D6CFF; color:white; width:200px; height:30px; padding-left:5px; border-radius:4px; flex-direction:row; justify-content:space-around; align-items:center;\" onmouseover=\"this.style.backgroundColor='#BA9BF8'\" onmouseout=\"this.style.backgroundColor='#9D6CFF'\" onclick=\"window.commands?.execute('create-mitosheet-from-dataframe-output');\">See Full Dataframe in Mito</div> <script> if (window.commands.hasCommand('create-mitosheet-from-dataframe-output')) document.getElementById('7c858734-4119-46b4-877f-be93e96c1e9b').style.display = 'flex' </script> <table border=\"1\" class=\"dataframe\">\n",
       "  <thead>\n",
       "    <tr style=\"text-align: right;\">\n",
       "      <th></th>\n",
       "      <th>started_at</th>\n",
       "      <th>ended_at</th>\n",
       "      <th>ride_duration</th>\n",
       "    </tr>\n",
       "  </thead>\n",
       "  <tbody>\n",
       "    <tr>\n",
       "      <th>61163</th>\n",
       "      <td>2020-12-15 12:10:14</td>\n",
       "      <td>2020-11-25 08:00:16</td>\n",
       "      <td>-29049.966667</td>\n",
       "    </tr>\n",
       "    <tr>\n",
       "      <th>26808</th>\n",
       "      <td>2020-12-15 11:35:39</td>\n",
       "      <td>2020-11-25 07:40:56</td>\n",
       "      <td>-29034.716667</td>\n",
       "    </tr>\n",
       "    <tr>\n",
       "      <th>25965</th>\n",
       "      <td>2020-12-15 11:34:23</td>\n",
       "      <td>2020-11-25 08:00:15</td>\n",
       "      <td>-29014.133333</td>\n",
       "    </tr>\n",
       "    <tr>\n",
       "      <th>87858</th>\n",
       "      <td>2020-12-15 12:12:43</td>\n",
       "      <td>2020-11-25 08:42:16</td>\n",
       "      <td>-29010.450000</td>\n",
       "    </tr>\n",
       "    <tr>\n",
       "      <th>90888</th>\n",
       "      <td>2020-12-15 11:34:38</td>\n",
       "      <td>2020-11-25 08:09:43</td>\n",
       "      <td>-29004.916667</td>\n",
       "    </tr>\n",
       "  </tbody>\n",
       "</table></div>"
      ],
      "text/plain": [
       "               started_at            ended_at  ride_duration\n",
       "61163 2020-12-15 12:10:14 2020-11-25 08:00:16  -29049.966667\n",
       "26808 2020-12-15 11:35:39 2020-11-25 07:40:56  -29034.716667\n",
       "25965 2020-12-15 11:34:23 2020-11-25 08:00:15  -29014.133333\n",
       "87858 2020-12-15 12:12:43 2020-11-25 08:42:16  -29010.450000\n",
       "90888 2020-12-15 11:34:38 2020-11-25 08:09:43  -29004.916667"
      ]
     },
     "execution_count": 48,
     "metadata": {},
     "output_type": "execute_result"
    }
   ],
   "source": [
    "df[['started_at','ended_at','ride_duration']].sort_values(by=['ride_duration']).head(5)"
   ]
  },
  {
   "cell_type": "markdown",
   "id": "0a54abca",
   "metadata": {},
   "source": [
    "### We see that we have negative durations"
   ]
  },
  {
   "cell_type": "code",
   "execution_count": 49,
   "id": "2d889ca6",
   "metadata": {},
   "outputs": [
    {
     "data": {
      "text/plain": [
       "ride_id               5478515\n",
       "rideable_type         5478515\n",
       "started_at            5478515\n",
       "ended_at              5478515\n",
       "start_station_name    4827132\n",
       "start_station_id      4827135\n",
       "end_station_name      4779678\n",
       "end_station_id        4779678\n",
       "start_lat             5478515\n",
       "start_lng             5478515\n",
       "end_lat               5473779\n",
       "end_lng               5473779\n",
       "member_casual         5478515\n",
       "ride_length           5473779\n",
       "ride_duration         5478515\n",
       "dtype: int64"
      ]
     },
     "execution_count": 49,
     "metadata": {},
     "output_type": "execute_result"
    }
   ],
   "source": [
    "df[df['started_at'] <= df['ended_at']].count()"
   ]
  },
  {
   "cell_type": "code",
   "execution_count": 50,
   "id": "1a1f6114",
   "metadata": {},
   "outputs": [],
   "source": [
    "df = df[df['started_at'] < df['ended_at']]"
   ]
  },
  {
   "cell_type": "code",
   "execution_count": 51,
   "id": "4848fadf",
   "metadata": {},
   "outputs": [
    {
     "data": {
      "text/html": [
       "<div><div id=b9653d16-cbfe-4c65-853c-dd866b376563 style=\"display:none; background-color:#9D6CFF; color:white; width:200px; height:30px; padding-left:5px; border-radius:4px; flex-direction:row; justify-content:space-around; align-items:center;\" onmouseover=\"this.style.backgroundColor='#BA9BF8'\" onmouseout=\"this.style.backgroundColor='#9D6CFF'\" onclick=\"window.commands?.execute('create-mitosheet-from-dataframe-output');\">See Full Dataframe in Mito</div> <script> if (window.commands.hasCommand('create-mitosheet-from-dataframe-output')) document.getElementById('b9653d16-cbfe-4c65-853c-dd866b376563').style.display = 'flex' </script> <table border=\"1\" class=\"dataframe\">\n",
       "  <thead>\n",
       "    <tr style=\"text-align: right;\">\n",
       "      <th></th>\n",
       "      <th>ride_id</th>\n",
       "      <th>rideable_type</th>\n",
       "      <th>started_at</th>\n",
       "      <th>ended_at</th>\n",
       "      <th>start_station_name</th>\n",
       "      <th>start_station_id</th>\n",
       "      <th>end_station_name</th>\n",
       "      <th>end_station_id</th>\n",
       "      <th>start_lat</th>\n",
       "      <th>start_lng</th>\n",
       "      <th>end_lat</th>\n",
       "      <th>end_lng</th>\n",
       "      <th>member_casual</th>\n",
       "      <th>ride_length</th>\n",
       "      <th>ride_duration</th>\n",
       "    </tr>\n",
       "  </thead>\n",
       "  <tbody>\n",
       "    <tr>\n",
       "      <th>287357</th>\n",
       "      <td>A645A00ABF309E8E</td>\n",
       "      <td>classic_bike</td>\n",
       "      <td>2021-05-20 18:18:09</td>\n",
       "      <td>2021-05-20 18:18:10</td>\n",
       "      <td>New St &amp; Illinois St</td>\n",
       "      <td>TA1306000013</td>\n",
       "      <td>New St &amp; Illinois St</td>\n",
       "      <td>TA1306000013</td>\n",
       "      <td>41.890847</td>\n",
       "      <td>-87.618617</td>\n",
       "      <td>41.890847</td>\n",
       "      <td>-87.618617</td>\n",
       "      <td>member</td>\n",
       "      <td>0.000000</td>\n",
       "      <td>0.016667</td>\n",
       "    </tr>\n",
       "    <tr>\n",
       "      <th>333859</th>\n",
       "      <td>7DB9C18EFA0D3F9A</td>\n",
       "      <td>classic_bike</td>\n",
       "      <td>2021-05-06 17:08:49</td>\n",
       "      <td>2021-05-06 17:08:50</td>\n",
       "      <td>Wells St &amp; Elm St</td>\n",
       "      <td>KA1504000135</td>\n",
       "      <td>Wells St &amp; Elm St</td>\n",
       "      <td>KA1504000135</td>\n",
       "      <td>41.903222</td>\n",
       "      <td>-87.634324</td>\n",
       "      <td>41.903222</td>\n",
       "      <td>-87.634324</td>\n",
       "      <td>member</td>\n",
       "      <td>0.000000</td>\n",
       "      <td>0.016667</td>\n",
       "    </tr>\n",
       "    <tr>\n",
       "      <th>33382</th>\n",
       "      <td>6679338A5D81C8D2</td>\n",
       "      <td>classic_bike</td>\n",
       "      <td>2021-10-10 19:32:52</td>\n",
       "      <td>2021-10-10 19:32:53</td>\n",
       "      <td>Clark St &amp; Wellington Ave</td>\n",
       "      <td>TA1307000136</td>\n",
       "      <td>Clark St &amp; Wellington Ave</td>\n",
       "      <td>TA1307000136</td>\n",
       "      <td>41.936497</td>\n",
       "      <td>-87.647539</td>\n",
       "      <td>41.936497</td>\n",
       "      <td>-87.647539</td>\n",
       "      <td>casual</td>\n",
       "      <td>0.000000</td>\n",
       "      <td>0.016667</td>\n",
       "    </tr>\n",
       "    <tr>\n",
       "      <th>10806</th>\n",
       "      <td>B8909E40DBBB3DEA</td>\n",
       "      <td>electric_bike</td>\n",
       "      <td>2021-09-25 08:44:40</td>\n",
       "      <td>2021-09-25 08:44:41</td>\n",
       "      <td>NaN</td>\n",
       "      <td>NaN</td>\n",
       "      <td>NaN</td>\n",
       "      <td>NaN</td>\n",
       "      <td>41.970000</td>\n",
       "      <td>-87.660000</td>\n",
       "      <td>41.970000</td>\n",
       "      <td>-87.660000</td>\n",
       "      <td>member</td>\n",
       "      <td>0.000000</td>\n",
       "      <td>0.016667</td>\n",
       "    </tr>\n",
       "    <tr>\n",
       "      <th>26319</th>\n",
       "      <td>6ACA37010D4535EA</td>\n",
       "      <td>classic_bike</td>\n",
       "      <td>2021-07-11 13:27:20</td>\n",
       "      <td>2021-07-11 13:27:21</td>\n",
       "      <td>Ashland Ave &amp; Augusta Blvd</td>\n",
       "      <td>13248</td>\n",
       "      <td>Ashland Ave &amp; Augusta Blvd</td>\n",
       "      <td>13248</td>\n",
       "      <td>41.899643</td>\n",
       "      <td>-87.667700</td>\n",
       "      <td>41.899643</td>\n",
       "      <td>-87.667700</td>\n",
       "      <td>member</td>\n",
       "      <td>0.000000</td>\n",
       "      <td>0.016667</td>\n",
       "    </tr>\n",
       "    <tr>\n",
       "      <th>...</th>\n",
       "      <td>...</td>\n",
       "      <td>...</td>\n",
       "      <td>...</td>\n",
       "      <td>...</td>\n",
       "      <td>...</td>\n",
       "      <td>...</td>\n",
       "      <td>...</td>\n",
       "      <td>...</td>\n",
       "      <td>...</td>\n",
       "      <td>...</td>\n",
       "      <td>...</td>\n",
       "      <td>...</td>\n",
       "      <td>...</td>\n",
       "      <td>...</td>\n",
       "      <td>...</td>\n",
       "    </tr>\n",
       "    <tr>\n",
       "      <th>640346</th>\n",
       "      <td>99415B003B7E7EEE</td>\n",
       "      <td>docked_bike</td>\n",
       "      <td>2021-07-08 19:29:49</td>\n",
       "      <td>2021-08-11 21:56:58</td>\n",
       "      <td>Kedzie Ave &amp; Milwaukee Ave</td>\n",
       "      <td>13085</td>\n",
       "      <td>Base - 2132 W Hubbard Warehouse</td>\n",
       "      <td>Hubbard Bike-checking (LBS-WH-TEST)</td>\n",
       "      <td>41.929567</td>\n",
       "      <td>-87.707857</td>\n",
       "      <td>41.889955</td>\n",
       "      <td>-87.680651</td>\n",
       "      <td>casual</td>\n",
       "      <td>4946.658618</td>\n",
       "      <td>49107.150000</td>\n",
       "    </tr>\n",
       "    <tr>\n",
       "      <th>81713</th>\n",
       "      <td>E6E1E5BFFD72ECEC</td>\n",
       "      <td>docked_bike</td>\n",
       "      <td>2021-06-05 23:33:51</td>\n",
       "      <td>2021-07-12 13:55:14</td>\n",
       "      <td>Clark St &amp; Lake St</td>\n",
       "      <td>KA1503000012</td>\n",
       "      <td>Base - 2132 W Hubbard Warehouse</td>\n",
       "      <td>Hubbard Bike-checking (LBS-WH-TEST)</td>\n",
       "      <td>41.886021</td>\n",
       "      <td>-87.630876</td>\n",
       "      <td>41.889955</td>\n",
       "      <td>-87.680651</td>\n",
       "      <td>casual</td>\n",
       "      <td>4143.492003</td>\n",
       "      <td>52701.383333</td>\n",
       "    </tr>\n",
       "    <tr>\n",
       "      <th>46321</th>\n",
       "      <td>BDA1217EC8532C7B</td>\n",
       "      <td>docked_bike</td>\n",
       "      <td>2021-05-02 02:56:07</td>\n",
       "      <td>2021-06-08 13:37:43</td>\n",
       "      <td>State St &amp; Van Buren St</td>\n",
       "      <td>TA1305000035</td>\n",
       "      <td>Wells St &amp; Polk St</td>\n",
       "      <td>SL-011</td>\n",
       "      <td>41.877181</td>\n",
       "      <td>-87.627844</td>\n",
       "      <td>41.872596</td>\n",
       "      <td>-87.633502</td>\n",
       "      <td>casual</td>\n",
       "      <td>692.373447</td>\n",
       "      <td>53921.600000</td>\n",
       "    </tr>\n",
       "    <tr>\n",
       "      <th>545476</th>\n",
       "      <td>7F0578ABF030FC83</td>\n",
       "      <td>docked_bike</td>\n",
       "      <td>2021-06-04 22:03:33</td>\n",
       "      <td>2021-07-13 14:15:14</td>\n",
       "      <td>Streeter Dr &amp; Grand Ave</td>\n",
       "      <td>13022</td>\n",
       "      <td>Base - 2132 W Hubbard Warehouse</td>\n",
       "      <td>Hubbard Bike-checking (LBS-WH-TEST)</td>\n",
       "      <td>41.892278</td>\n",
       "      <td>-87.612043</td>\n",
       "      <td>41.889955</td>\n",
       "      <td>-87.680651</td>\n",
       "      <td>casual</td>\n",
       "      <td>5684.910793</td>\n",
       "      <td>55691.683333</td>\n",
       "    </tr>\n",
       "    <tr>\n",
       "      <th>595683</th>\n",
       "      <td>F043F0F6A1AA4F85</td>\n",
       "      <td>docked_bike</td>\n",
       "      <td>2021-06-05 02:27:26</td>\n",
       "      <td>2021-07-13 22:51:35</td>\n",
       "      <td>Michigan Ave &amp; Lake St</td>\n",
       "      <td>TA1305000011</td>\n",
       "      <td>Malcolm X College Vaccination Site</td>\n",
       "      <td>631</td>\n",
       "      <td>41.886024</td>\n",
       "      <td>-87.624117</td>\n",
       "      <td>41.877618</td>\n",
       "      <td>-87.673895</td>\n",
       "      <td>casual</td>\n",
       "      <td>4225.656003</td>\n",
       "      <td>55944.150000</td>\n",
       "    </tr>\n",
       "  </tbody>\n",
       "</table></div>"
      ],
      "text/plain": [
       "                 ride_id  rideable_type          started_at  \\\n",
       "287357  A645A00ABF309E8E   classic_bike 2021-05-20 18:18:09   \n",
       "333859  7DB9C18EFA0D3F9A   classic_bike 2021-05-06 17:08:49   \n",
       "33382   6679338A5D81C8D2   classic_bike 2021-10-10 19:32:52   \n",
       "10806   B8909E40DBBB3DEA  electric_bike 2021-09-25 08:44:40   \n",
       "26319   6ACA37010D4535EA   classic_bike 2021-07-11 13:27:20   \n",
       "...                  ...            ...                 ...   \n",
       "640346  99415B003B7E7EEE    docked_bike 2021-07-08 19:29:49   \n",
       "81713   E6E1E5BFFD72ECEC    docked_bike 2021-06-05 23:33:51   \n",
       "46321   BDA1217EC8532C7B    docked_bike 2021-05-02 02:56:07   \n",
       "545476  7F0578ABF030FC83    docked_bike 2021-06-04 22:03:33   \n",
       "595683  F043F0F6A1AA4F85    docked_bike 2021-06-05 02:27:26   \n",
       "\n",
       "                  ended_at          start_station_name start_station_id  \\\n",
       "287357 2021-05-20 18:18:10        New St & Illinois St     TA1306000013   \n",
       "333859 2021-05-06 17:08:50           Wells St & Elm St     KA1504000135   \n",
       "33382  2021-10-10 19:32:53   Clark St & Wellington Ave     TA1307000136   \n",
       "10806  2021-09-25 08:44:41                         NaN              NaN   \n",
       "26319  2021-07-11 13:27:21  Ashland Ave & Augusta Blvd            13248   \n",
       "...                    ...                         ...              ...   \n",
       "640346 2021-08-11 21:56:58  Kedzie Ave & Milwaukee Ave            13085   \n",
       "81713  2021-07-12 13:55:14          Clark St & Lake St     KA1503000012   \n",
       "46321  2021-06-08 13:37:43     State St & Van Buren St     TA1305000035   \n",
       "545476 2021-07-13 14:15:14     Streeter Dr & Grand Ave            13022   \n",
       "595683 2021-07-13 22:51:35      Michigan Ave & Lake St     TA1305000011   \n",
       "\n",
       "                          end_station_name  \\\n",
       "287357                New St & Illinois St   \n",
       "333859                   Wells St & Elm St   \n",
       "33382            Clark St & Wellington Ave   \n",
       "10806                                  NaN   \n",
       "26319           Ashland Ave & Augusta Blvd   \n",
       "...                                    ...   \n",
       "640346     Base - 2132 W Hubbard Warehouse   \n",
       "81713      Base - 2132 W Hubbard Warehouse   \n",
       "46321                   Wells St & Polk St   \n",
       "545476     Base - 2132 W Hubbard Warehouse   \n",
       "595683  Malcolm X College Vaccination Site   \n",
       "\n",
       "                             end_station_id  start_lat  start_lng    end_lat  \\\n",
       "287357                         TA1306000013  41.890847 -87.618617  41.890847   \n",
       "333859                         KA1504000135  41.903222 -87.634324  41.903222   \n",
       "33382                          TA1307000136  41.936497 -87.647539  41.936497   \n",
       "10806                                   NaN  41.970000 -87.660000  41.970000   \n",
       "26319                                 13248  41.899643 -87.667700  41.899643   \n",
       "...                                     ...        ...        ...        ...   \n",
       "640346  Hubbard Bike-checking (LBS-WH-TEST)  41.929567 -87.707857  41.889955   \n",
       "81713   Hubbard Bike-checking (LBS-WH-TEST)  41.886021 -87.630876  41.889955   \n",
       "46321                                SL-011  41.877181 -87.627844  41.872596   \n",
       "545476  Hubbard Bike-checking (LBS-WH-TEST)  41.892278 -87.612043  41.889955   \n",
       "595683                                  631  41.886024 -87.624117  41.877618   \n",
       "\n",
       "          end_lng member_casual  ride_length  ride_duration  \n",
       "287357 -87.618617        member     0.000000       0.016667  \n",
       "333859 -87.634324        member     0.000000       0.016667  \n",
       "33382  -87.647539        casual     0.000000       0.016667  \n",
       "10806  -87.660000        member     0.000000       0.016667  \n",
       "26319  -87.667700        member     0.000000       0.016667  \n",
       "...           ...           ...          ...            ...  \n",
       "640346 -87.680651        casual  4946.658618   49107.150000  \n",
       "81713  -87.680651        casual  4143.492003   52701.383333  \n",
       "46321  -87.633502        casual   692.373447   53921.600000  \n",
       "545476 -87.680651        casual  5684.910793   55691.683333  \n",
       "595683 -87.673895        casual  4225.656003   55944.150000  \n",
       "\n",
       "[5478022 rows x 15 columns]"
      ]
     },
     "execution_count": 51,
     "metadata": {},
     "output_type": "execute_result"
    }
   ],
   "source": [
    "df.sort_values(by=['ride_duration'])"
   ]
  },
  {
   "cell_type": "code",
   "execution_count": 52,
   "id": "92ace1f1",
   "metadata": {},
   "outputs": [],
   "source": [
    "df['day_of_week'] = df['started_at'].dt.day_name()"
   ]
  },
  {
   "cell_type": "code",
   "execution_count": 53,
   "id": "a8619e26",
   "metadata": {},
   "outputs": [
    {
     "data": {
      "text/html": [
       "<div><div id=86e180a7-2e7e-40ad-9141-dc5af8d7799b style=\"display:none; background-color:#9D6CFF; color:white; width:200px; height:30px; padding-left:5px; border-radius:4px; flex-direction:row; justify-content:space-around; align-items:center;\" onmouseover=\"this.style.backgroundColor='#BA9BF8'\" onmouseout=\"this.style.backgroundColor='#9D6CFF'\" onclick=\"window.commands?.execute('create-mitosheet-from-dataframe-output');\">See Full Dataframe in Mito</div> <script> if (window.commands.hasCommand('create-mitosheet-from-dataframe-output')) document.getElementById('86e180a7-2e7e-40ad-9141-dc5af8d7799b').style.display = 'flex' </script> <table border=\"1\" class=\"dataframe\">\n",
       "  <thead>\n",
       "    <tr style=\"text-align: right;\">\n",
       "      <th></th>\n",
       "      <th>started_at</th>\n",
       "      <th>day_of_week</th>\n",
       "    </tr>\n",
       "  </thead>\n",
       "  <tbody>\n",
       "    <tr>\n",
       "      <th>398302</th>\n",
       "      <td>2021-05-08 16:54:45</td>\n",
       "      <td>Saturday</td>\n",
       "    </tr>\n",
       "    <tr>\n",
       "      <th>472330</th>\n",
       "      <td>2021-10-30 14:05:13</td>\n",
       "      <td>Saturday</td>\n",
       "    </tr>\n",
       "    <tr>\n",
       "      <th>268166</th>\n",
       "      <td>2021-08-14 21:24:45</td>\n",
       "      <td>Saturday</td>\n",
       "    </tr>\n",
       "    <tr>\n",
       "      <th>639869</th>\n",
       "      <td>2021-08-31 07:15:59</td>\n",
       "      <td>Tuesday</td>\n",
       "    </tr>\n",
       "    <tr>\n",
       "      <th>45400</th>\n",
       "      <td>2020-12-13 14:59:16</td>\n",
       "      <td>Sunday</td>\n",
       "    </tr>\n",
       "    <tr>\n",
       "      <th>493504</th>\n",
       "      <td>2021-07-05 21:37:03</td>\n",
       "      <td>Monday</td>\n",
       "    </tr>\n",
       "    <tr>\n",
       "      <th>333253</th>\n",
       "      <td>2021-05-06 18:18:48</td>\n",
       "      <td>Thursday</td>\n",
       "    </tr>\n",
       "    <tr>\n",
       "      <th>564364</th>\n",
       "      <td>2021-07-11 17:16:19</td>\n",
       "      <td>Sunday</td>\n",
       "    </tr>\n",
       "    <tr>\n",
       "      <th>165297</th>\n",
       "      <td>2021-11-02 13:40:55</td>\n",
       "      <td>Tuesday</td>\n",
       "    </tr>\n",
       "    <tr>\n",
       "      <th>599659</th>\n",
       "      <td>2021-09-14 07:33:36</td>\n",
       "      <td>Tuesday</td>\n",
       "    </tr>\n",
       "  </tbody>\n",
       "</table></div>"
      ],
      "text/plain": [
       "                started_at day_of_week\n",
       "398302 2021-05-08 16:54:45    Saturday\n",
       "472330 2021-10-30 14:05:13    Saturday\n",
       "268166 2021-08-14 21:24:45    Saturday\n",
       "639869 2021-08-31 07:15:59     Tuesday\n",
       "45400  2020-12-13 14:59:16      Sunday\n",
       "493504 2021-07-05 21:37:03      Monday\n",
       "333253 2021-05-06 18:18:48    Thursday\n",
       "564364 2021-07-11 17:16:19      Sunday\n",
       "165297 2021-11-02 13:40:55     Tuesday\n",
       "599659 2021-09-14 07:33:36     Tuesday"
      ]
     },
     "execution_count": 53,
     "metadata": {},
     "output_type": "execute_result"
    }
   ],
   "source": [
    "df[['started_at','day_of_week']].sample(10)"
   ]
  },
  {
   "cell_type": "code",
   "execution_count": 54,
   "id": "10c3efbd",
   "metadata": {},
   "outputs": [
    {
     "data": {
      "text/plain": [
       "Saturday     976861\n",
       "Sunday       850214\n",
       "Friday       783845\n",
       "Wednesday    733549\n",
       "Tuesday      732571\n",
       "Thursday     711235\n",
       "Monday       689747\n",
       "Name: day_of_week, dtype: int64"
      ]
     },
     "execution_count": 54,
     "metadata": {},
     "output_type": "execute_result"
    }
   ],
   "source": [
    "df['day_of_week'].value_counts()"
   ]
  },
  {
   "cell_type": "markdown",
   "id": "dee4bcc4",
   "metadata": {},
   "source": [
    "## <span style='color:black'>Mean ride length</span>"
   ]
  },
  {
   "cell_type": "code",
   "execution_count": 55,
   "id": "4f81882a",
   "metadata": {},
   "outputs": [
    {
     "data": {
      "text/plain": [
       "2194.2"
      ]
     },
     "execution_count": 55,
     "metadata": {},
     "output_type": "execute_result"
    }
   ],
   "source": [
    "np.round(df['ride_length'].mean(), 1)"
   ]
  },
  {
   "cell_type": "markdown",
   "id": "f534be89",
   "metadata": {},
   "source": [
    "## <span style='color:black'>Max ride length</span>"
   ]
  },
  {
   "cell_type": "code",
   "execution_count": 56,
   "id": "58140c5e",
   "metadata": {},
   "outputs": [
    {
     "data": {
      "text/plain": [
       "114383.6"
      ]
     },
     "execution_count": 56,
     "metadata": {},
     "output_type": "execute_result"
    }
   ],
   "source": [
    "np.round(df['ride_length'].max(), 1)"
   ]
  },
  {
   "cell_type": "markdown",
   "id": "f3a6748d",
   "metadata": {},
   "source": [
    "## <span style='color:black'>Mode day of week</span>"
   ]
  },
  {
   "cell_type": "code",
   "execution_count": 57,
   "id": "c5650401",
   "metadata": {},
   "outputs": [
    {
     "data": {
      "text/plain": [
       "0    Saturday\n",
       "dtype: object"
      ]
     },
     "execution_count": 57,
     "metadata": {},
     "output_type": "execute_result"
    }
   ],
   "source": [
    "df['day_of_week'].mode()"
   ]
  },
  {
   "cell_type": "code",
   "execution_count": 58,
   "id": "ea128895",
   "metadata": {},
   "outputs": [
    {
     "name": "stdout",
     "output_type": "stream",
     "text": [
      "(5478022, 16)\n"
     ]
    }
   ],
   "source": [
    "print((len(df.index),len(df.columns)))"
   ]
  },
  {
   "cell_type": "markdown",
   "id": "45f8415a",
   "metadata": {},
   "source": [
    "# Export Final DataSet"
   ]
  },
  {
   "cell_type": "code",
   "execution_count": 62,
   "id": "19103662",
   "metadata": {},
   "outputs": [],
   "source": [
    "df.to_csv(\"cs2_df.csv\")"
   ]
  },
  {
   "cell_type": "code",
   "execution_count": null,
   "id": "a25fbaa4",
   "metadata": {},
   "outputs": [],
   "source": []
  }
 ],
 "metadata": {
  "kernelspec": {
   "display_name": "Python 3 (ipykernel)",
   "language": "python",
   "name": "python3"
  },
  "language_info": {
   "codemirror_mode": {
    "name": "ipython",
    "version": 3
   },
   "file_extension": ".py",
   "mimetype": "text/x-python",
   "name": "python",
   "nbconvert_exporter": "python",
   "pygments_lexer": "ipython3",
   "version": "3.9.7"
  }
 },
 "nbformat": 4,
 "nbformat_minor": 5
}
